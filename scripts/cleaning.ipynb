{
 "cells": [
  {
   "cell_type": "code",
   "execution_count": 48,
   "metadata": {},
   "outputs": [],
   "source": [
    "import pandas as pd"
   ]
  },
  {
   "cell_type": "code",
   "execution_count": 49,
   "metadata": {},
   "outputs": [],
   "source": [
    "# read people.csv\n",
    "people = pd.read_csv('data/people.csv',\n",
    "                        index_col='pid',\n",
    "                        usecols=['pid', 'firstname', 'middlename', 'lastname', 'majorarea', 'hindex', 'locid'])\n",
    "\n",
    "# combine first, middle, and last names into one column\n",
    "people['name'] = people.firstname + ' ' + people.middlename.fillna('') + ' ' + people.lastname\n",
    "\n",
    "# drop first, middle, and last name columns\n",
    "people = people.drop(columns=['firstname', 'middlename', 'lastname'])\n",
    "\n",
    "# drop rows with missing values in majorarea, hindex, and name\n",
    "people = people[people.majorarea.notnull() & people.hindex.notnull() & people.name.notnull()]\n",
    "\n",
    "# get people who have computerscience in majorarea\n",
    "people = people[people.majorarea.str.contains('computerscience', case=False)]\n",
    "\n",
    "# save to new people.csv\n",
    "people.to_csv('clean_data/people.csv')"
   ]
  },
  {
   "cell_type": "code",
   "execution_count": 50,
   "metadata": {},
   "outputs": [],
   "source": [
    "# read locations.csv\n",
    "locations = pd.read_csv('data/locations.csv',\n",
    "                        index_col='locid',\n",
    "                        usecols=['locid', 'location', 'city', 'state', 'country'])\n",
    "\n",
    "# only keep rows that have a name, (city or state), and country\n",
    "locations = locations[(locations.city.notnull() | locations.state.notnull()) & locations.country.notnull() & locations.location.notnull()]\n",
    "\n",
    "# only keep locations that have a matching locid in people\n",
    "locations = locations[locations.index.isin(people.locid)]\n",
    "\n",
    "# save to locations.csv\n",
    "locations.to_csv('clean_data/locations.csv')"
   ]
  },
  {
   "cell_type": "code",
   "execution_count": 51,
   "metadata": {},
   "outputs": [
    {
     "name": "stderr",
     "output_type": "stream",
     "text": [
      "/var/folders/xy/ksx165pj2gq7pq7wl3x984lc0000gn/T/ipykernel_66384/444646543.py:2: DtypeWarning: Columns (9) have mixed types. Specify dtype option on import or set low_memory=False.\n",
      "  grants = pd.read_csv('data/peopleGrant.csv',\n"
     ]
    }
   ],
   "source": [
    "# read grants.csv\n",
    "grants = pd.read_csv('data/peopleGrant.csv',\n",
    "                        usecols=['grantid', 'pid', 'BUDGET_START'])\n",
    "\n",
    "# remove grants with missing pid or budget_start\n",
    "grants = grants[grants.pid.notnull() & grants.BUDGET_START.notnull()]\n",
    "\n",
    "# only keep grants that have a matching pid in people\n",
    "grants = grants[grants.pid.isin(people.index)]\n",
    "\n",
    "# save to grants.csv not including index\n",
    "grants.to_csv('clean_data/grants.csv', index=False)"
   ]
  },
  {
   "cell_type": "code",
   "execution_count": 52,
   "metadata": {},
   "outputs": [],
   "source": [
    "# read and combine data/authorPub05.csv data/authorPub15.csv data/authorPub20.csv data/authorPub25.csv data/authorPub30.csv data/authorPub35.csv\n",
    "pubs = pd.concat([pd.read_csv('data/authorPub05.csv', usecols=['pubid', 'pid', 'pmid',  'doi', 'pmid'])] +\n",
    "                [pd.read_csv('data/authorPub15.csv', usecols=['pubid', 'pid', 'pmid', 'doi', 'pmid'])] +\n",
    "                [pd.read_csv('data/authorPub20.csv', usecols=['pubid', 'pid', 'pmid', 'doi', 'pmid'])] +\n",
    "                [pd.read_csv('data/authorPub25.csv', usecols=['pubid', 'pid', 'pmid', 'doi', 'pmid'])] +\n",
    "                [pd.read_csv('data/authorPub30.csv', usecols=['pubid', 'pid', 'pmid', 'doi', 'pmid'])] +\n",
    "                [pd.read_csv('data/authorPub35.csv', usecols=['pubid', 'pid', 'pmid', 'doi', 'pmid'])])\n",
    "\n",
    "# only keep publications that have a matching pid in people\n",
    "pubs = pubs[pubs.pid.isin(people.index)] \n",
    "\n",
    "# remove rows with missing values in doi\n",
    "pubs = pubs[pubs.doi.notnull()]\n",
    "\n",
    "# save to pubs.csv not including index\n",
    "pubs.to_csv('clean_data/pubs.csv', index=False)"
   ]
  }
 ],
 "metadata": {
  "kernelspec": {
   "display_name": "venv",
   "language": "python",
   "name": "python3"
  },
  "language_info": {
   "codemirror_mode": {
    "name": "ipython",
    "version": 3
   },
   "file_extension": ".py",
   "mimetype": "text/x-python",
   "name": "python",
   "nbconvert_exporter": "python",
   "pygments_lexer": "ipython3",
   "version": "3.12.4"
  }
 },
 "nbformat": 4,
 "nbformat_minor": 2
}
